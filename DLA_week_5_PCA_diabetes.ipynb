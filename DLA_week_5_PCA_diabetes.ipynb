{
 "cells": [
  {
   "cell_type": "markdown",
   "id": "80bd3662-1a49-4296-abab-fe257dfa1071",
   "metadata": {},
   "source": [
    "# 1. PCA를 이용해서 diabates 적용해보기"
   ]
  },
  {
   "cell_type": "code",
   "execution_count": 2,
   "id": "f07bc5f1-b889-4b06-a966-13533cfa5c8a",
   "metadata": {},
   "outputs": [
    {
     "name": "stdout",
     "output_type": "stream",
     "text": [
      "PCA 결과:\n",
      "        PC1       PC2       PC3\n",
      "0  0.587199 -1.946832  0.589205\n",
      "1 -2.831625  1.372082  0.027930\n",
      "2  0.272129 -1.634901  0.739244\n",
      "3  0.049281  0.382278 -2.013032\n",
      "4 -0.756421  0.811960 -0.057238\n",
      "\n",
      "각 주성분이 설명하는 분산 비율: [0.40242108 0.14923197 0.12059663]\n"
     ]
    }
   ],
   "source": [
    "import pandas as pd\n",
    "from sklearn.datasets import load_diabetes\n",
    "from sklearn.decomposition import PCA\n",
    "from sklearn.preprocessing import StandardScaler\n",
    "\n",
    "# 1. 데이터 로드\n",
    "# Diabetes 데이터셋을 불러옵니다.\n",
    "diabetes_data = load_diabetes()\n",
    "diabetes_df = pd.DataFrame(diabetes_data.data, columns=diabetes_data.feature_names)\n",
    "\n",
    "# 2. 데이터 표준화\n",
    "# PCA를 적용하기 전에 데이터를 표준화합니다 (평균 0, 분산 1로 변환).\n",
    "scaler = StandardScaler()\n",
    "scaled_data = scaler.fit_transform(diabetes_df)\n",
    "\n",
    "# 3. PCA 모델 생성\n",
    "# 2개의 주성분으로 데이터를 변환하는 PCA 모델을 만듭니다.\n",
    "pca = PCA(n_components=3)\n",
    "pca_result = pca.fit_transform(scaled_data)\n",
    "\n",
    "# 4. 결과 저장 및 출력\n",
    "# 주성분으로 변환된 결과를 데이터프레임으로 저장합니다.\n",
    "pca_df = pd.DataFrame(pca_result, columns=['PC1', 'PC2','PC3'])\n",
    "\n",
    "# PCA 결과 출력\n",
    "print(\"PCA 결과:\")\n",
    "print(pca_df.head())\n",
    "\n",
    "# 5. 주성분 설명력\n",
    "# 각 주성분이 설명하는 분산의 비율을 확인합니다.\n",
    "explained_variance = pca.explained_variance_ratio_\n",
    "print(\"\\n각 주성분이 설명하는 분산 비율:\", explained_variance)\n"
   ]
  }
 ],
 "metadata": {
  "kernelspec": {
   "display_name": "DLA_2",
   "language": "python",
   "name": "dla_2"
  },
  "language_info": {
   "codemirror_mode": {
    "name": "ipython",
    "version": 3
   },
   "file_extension": ".py",
   "mimetype": "text/x-python",
   "name": "python",
   "nbconvert_exporter": "python",
   "pygments_lexer": "ipython3",
   "version": "3.10.13"
  }
 },
 "nbformat": 4,
 "nbformat_minor": 5
}
