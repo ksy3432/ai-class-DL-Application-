{
 "cells": [
  {
   "cell_type": "markdown",
   "id": "4f8a70f0-ecb0-4604-9325-dca1bd6f616d",
   "metadata": {},
   "source": [
    "순환데이터 코드를 이용하여 분류를 위한 순환 데이터 만들기"
   ]
  },
  {
   "cell_type": "code",
   "execution_count": null,
   "id": "a1aade80-7aa5-4e57-a4a6-98448694190c",
   "metadata": {},
   "outputs": [],
   "source": [
    "# split a univariate sequence into samples\n",
    "\n",
    "def split_sequence(sequence, n_steps):\n",
    "    X, y = list(), list()\n",
    "    for i in range(len(sequence)):\n",
    "        # find the end of this pattern\n",
    "            end_ix = i + n_steps\n",
    "        # check if we are beyond the sequence\n",
    "        if end_ix > len(sequence)-1:\n",
    "            break\n",
    "        # gather input and output parts of the pattern\n",
    "        seq_x, seq_y = sequence[i:end_ix], sequence[end_ix-1]\n",
    "        X.append(seq_x)\n",
    "        y.append(seq_y)\n",
    "    return array(X), array(y)"
   ]
  },
  {
   "cell_type": "markdown",
   "id": "3934b8a2-66ed-4b17-8c78-2a4a7d28ae14",
   "metadata": {},
   "source": [
    "regression은 연속된 값을 다루기에 y를 end_ix로 두어서 처음과 끝을 연결하여 순환되도록 하지만 classification은 입력된 시퀀스에 대한 정확한 레이블을 할당하기 위해 end_ix -1을 사용한다"
   ]
  }
 ],
 "metadata": {
  "kernelspec": {
   "display_name": "Python 3 (ipykernel)",
   "language": "python",
   "name": "python3"
  },
  "language_info": {
   "codemirror_mode": {
    "name": "ipython",
    "version": 3
   },
   "file_extension": ".py",
   "mimetype": "text/x-python",
   "name": "python",
   "nbconvert_exporter": "python",
   "pygments_lexer": "ipython3",
   "version": "3.12.4"
  }
 },
 "nbformat": 4,
 "nbformat_minor": 5
}
